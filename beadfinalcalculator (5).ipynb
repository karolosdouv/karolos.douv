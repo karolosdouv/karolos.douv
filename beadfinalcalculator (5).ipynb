{
 "cells": [
  {
   "cell_type": "code",
   "execution_count": 1,
   "id": "26ad929b-ce71-494e-ada8-5cb1bc52deb8",
   "metadata": {},
   "outputs": [
    {
     "name": "stdin",
     "output_type": "stream",
     "text": [
      "Enter cell count :  17\n",
      "Enter expected cell viability (%) :  100\n",
      "Enter epitopes per bead set :  6\n"
     ]
    },
    {
     "name": "stderr",
     "output_type": "stream",
     "text": [
      "For 17M viable cells, you will need 34M beads. Take 255ul of beads wash and resuspended in 60ul PBS-T. Add 4.08ul aCD28 and incubate. After washing, resuspend the beads, split in 2 equal parts and add 70.8333333333333ul for each of the 6 pMonomers per set of beads(total 2 sets of beads with 6 epitopes each).\n",
      "\n",
      "UVmonomer needed 480ul => Take 10ul UVmononer and mix with 470ul of PBS. Add 40ul of UVmonomer per well and match with an equal amount of peptide (diluted 1:50).\n",
      "\n",
      "ul of Beads:255\n",
      "\n",
      "ul of aCD28:4.08\n",
      "\n",
      "ul per pMonomer per set:70.8333333333333\n",
      "\n",
      "UVmonomer needed: 10ul UVmonomer + 470 ul PBS add 40 ul per well\n",
      "\n"
     ]
    }
   ],
   "source": [
    "amount_of_cells = as.integer(readline(prompt = \"Enter cell count : \"));\n",
    "expected_viability = as.integer(readline(prompt = \"Enter expected cell viability (%) : \"));\n",
    "epitopes_per_beadset <- as.integer(readline(prompt = \"Enter epitopes per bead set : \"));\n",
    "viablecells <- amount_of_cells * (expected_viability / 100)\n",
    "total_beads_needed <- viablecells * 2\n",
    "ul_of_beads_needed <- total_beads_needed * 7.5\n",
    "acd28_needed = total_beads_needed * 0.12\n",
    "bead_pools = total_beads_needed / 2\n",
    "amount_per_monomer_needed = (25 * bead_pools) / epitopes_per_beadset\n",
    "rounded_amount_per_monomer_needed = round(((30 * bead_pools) / epitopes_per_beadset), digits = -1)  \n",
    "total_monomer_needed = (25 * total_beads_needed) \n",
    "uv_monomer_needed = (rounded_amount_per_monomer_needed / 2) * ((epitopes_per_beadset * 2))\n",
    "take_uvmonomer = round(uv_monomer_needed / 40, digits = -1)\n",
    "pbs_needed =(uv_monomer_needed - take_uvmonomer)\n",
    "uv_monomer_per_well = uv_monomer_needed / (epitopes_per_beadset * 2)\n",
    "\n",
    "message(\"For \", viablecells,\"M viable cells, you will need \", total_beads_needed,\"M beads. Take \", \n",
    "        ul_of_beads_needed,\"ul of beads wash and resuspended in 60ul PBS-T. Add \", acd28_needed,\n",
    "        \"ul aCD28 and incubate. After washing, resuspend the beads, split in 2 equal parts and add \", amount_per_monomer_needed,\"ul for each of the \", epitopes_per_beadset, \" pMonomers per set of beads(total 2 sets of beads with \", epitopes_per_beadset, \" epitopes each).\")\n",
    "\n",
    "message(\"UVmonomer needed \", uv_monomer_needed,\"ul => Take \", take_uvmonomer,\"ul UVmononer and mix with \",pbs_needed,\"ul of PBS. Add \", uv_monomer_per_well,\"ul of UVmonomer per well and match with an equal amount of peptide (diluted 1:50).\")\n",
    "\n",
    "\n",
    "\n",
    "\n",
    "message(\"ul of Beads:\", ul_of_beads_needed)\n",
    "message(\"ul of aCD28:\", acd28_needed)\n",
    "message(\"ul per pMonomer per set:\", amount_per_monomer_needed)\n",
    "message(\"UVmonomer needed: \", take_uvmonomer, \"ul UVmonomer + \", pbs_needed,\" ul PBS add \", uv_monomer_per_well,\" ul per well\")\n"
   ]
  },
  {
   "cell_type": "code",
   "execution_count": null,
   "id": "60cc101c",
   "metadata": {},
   "outputs": [],
   "source": []
  },
  {
   "cell_type": "code",
   "execution_count": null,
   "id": "3be2f892",
   "metadata": {},
   "outputs": [],
   "source": []
  },
  {
   "cell_type": "code",
   "execution_count": null,
   "id": "2043ada6",
   "metadata": {},
   "outputs": [],
   "source": []
  }
 ],
 "metadata": {
  "kernelspec": {
   "display_name": "R",
   "language": "R",
   "name": "ir"
  },
  "language_info": {
   "codemirror_mode": "r",
   "file_extension": ".r",
   "mimetype": "text/x-r-source",
   "name": "R",
   "pygments_lexer": "r",
   "version": "3.6.3"
  }
 },
 "nbformat": 4,
 "nbformat_minor": 5
}
